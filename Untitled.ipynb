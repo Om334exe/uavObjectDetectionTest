{
 "cells": [
  {
   "cell_type": "code",
   "execution_count": null,
   "id": "f9858183-7860-427a-9691-338bfcf3b9b3",
   "metadata": {},
   "outputs": [],
   "source": []
  }
 ],
 "metadata": {
  "kernelspec": {
   "display_name": "",
   "name": ""
  },
  "language_info": {
   "name": ""
  }
 },
 "nbformat": 4,
 "nbformat_minor": 5
}
